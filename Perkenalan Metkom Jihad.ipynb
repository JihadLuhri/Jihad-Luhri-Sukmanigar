{
 "cells": [
  {
   "cell_type": "code",
   "execution_count": null,
   "id": "caring-respect",
   "metadata": {},
   "outputs": [],
   "source": [
    "print (\"#/################################################################################/\")\n",
    "print (\"/                                                                                 /\")\n",
    "print (\"/                         Jihad Luhri Sukmanigar                                  /\")\n",
    "print (\"/                           20/462142/PA/20114                                    /\")\n",
    "print (\"/                        jihadluhri@mail.ugm.ac.id                                /\")\n",
    "print (\"/                                                                                 /\")\n",
    "print (\"#/################################################################################/\")"
   ]
  }
 ],
 "metadata": {
  "kernelspec": {
   "display_name": "Python 3",
   "language": "python",
   "name": "python3"
  },
  "language_info": {
   "codemirror_mode": {
    "name": "ipython",
    "version": 3
   },
   "file_extension": ".py",
   "mimetype": "text/x-python",
   "name": "python",
   "nbconvert_exporter": "python",
   "pygments_lexer": "ipython3",
   "version": "3.8.5"
  }
 },
 "nbformat": 4,
 "nbformat_minor": 5
}
